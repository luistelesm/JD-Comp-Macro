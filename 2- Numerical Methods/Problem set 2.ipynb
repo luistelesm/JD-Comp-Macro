{
 "cells": [
  {
   "cell_type": "markdown",
   "metadata": {},
   "source": [
    "## Problem set 2"
   ]
  },
  {
   "cell_type": "markdown",
   "metadata": {},
   "source": [
    "Luis Teles 2022"
   ]
  },
  {
   "cell_type": "markdown",
   "metadata": {},
   "source": [
    "### Part 1"
   ]
  },
  {
   "cell_type": "markdown",
   "metadata": {},
   "source": [
    "Do the folowing exercises from Week 1 lecture notebooks: \n",
    "\n",
    "- Numerical: Exercises 4-7"
   ]
  },
  {
   "cell_type": "markdown",
   "metadata": {},
   "source": [
    "In addition, do the following exercises:"
   ]
  },
  {
   "cell_type": "markdown",
   "metadata": {},
   "source": [
    "##### Economic setting"
   ]
  },
  {
   "cell_type": "markdown",
   "metadata": {},
   "source": [
    "Demand function:\n",
    "\n",
    "$ Q(p) = 0.5p^{-0.5}+ 0.3 p^{-0.2} $\n",
    "\n",
    "Excess demand:\n",
    "\n",
    "$ g(p) = 1 - 0.5p^{-0.5} - 0.3 p^{-0.2} $\n",
    "\n",
    "Goal: for a given demanded quantity of $Q=1$, what is the price $p$ that clears the market?\n",
    "\n"
   ]
  },
  {
   "cell_type": "code",
   "execution_count": 2,
   "metadata": {},
   "outputs": [],
   "source": [
    "#Imports and demand functions from previous exercises\n",
    "from numpy import *\n",
    "import matplotlib.pyplot as plt\n",
    "\n",
    "def qd(p): return 0.5*(p**-0.5) + 0.3*(p**-0.2) \n",
    "\n",
    "def xd(p): return 1-qd(p)\n",
    "\n",
    "def d_qd(p):  return -0.25*(p**-1.5) + -0.06*(p**-1.2) "
   ]
  },
  {
   "cell_type": "markdown",
   "metadata": {
    "tags": []
   },
   "source": [
    "### Exercise 4\n",
    "\n",
    "- First, define the derivative approximation function. This function takes three arguments: 1) a function, 2) $x_0$ and 3) precision $h= x-x_0$. The derivative approximation function is given by: $f'(x_0)= \\frac{f(x_0+h)-f(x_0)}{h}$. Use $h=10^{-6}$.\n",
    "\n",
    "- Define the Newton-Rhapson algorithm. Then use it to find the price $p$ that clears demand $Q=1$. Use tolerance $10^{-15}$ and use maximum number of iteratrions 1000 and initial guess $x_0=1$. "
   ]
  },
  {
   "cell_type": "code",
   "execution_count": 8,
   "metadata": {},
   "outputs": [],
   "source": [
    "def approx_deriv(x, f, h = 10**-6): return (f(x + h) - f(x)) / h"
   ]
  },
  {
   "cell_type": "code",
   "execution_count": 22,
   "metadata": {},
   "outputs": [],
   "source": [
    "def root_NewtonRhapson(f, x0, tol = 10**-15, max_iter = 1000):\n",
    "    x_n = x0\n",
    "    n = 0\n",
    "    gap = 1\n",
    "    while (abs(gap) > tol) & (n <= max_iter):\n",
    "        if n>0: x_n = x_n1\n",
    "        x_n1 = x_n - f(x_n) / approx_deriv(x_n, f)\n",
    "        gap = x_n1 - x_n\n",
    "        n += 1\n",
    "    if abs(gap) <= tol: \n",
    "        return x_n1\n",
    "    else:\n",
    "        print('error, did not converge')"
   ]
  },
  {
   "cell_type": "code",
   "execution_count": 23,
   "metadata": {},
   "outputs": [
    {
     "data": {
      "text/plain": [
       "0.5670944159657575"
      ]
     },
     "execution_count": 23,
     "metadata": {},
     "output_type": "execute_result"
    }
   ],
   "source": [
    "root_NewtonRhapson(xd, x0 = 1)"
   ]
  },
  {
   "cell_type": "markdown",
   "metadata": {
    "tags": []
   },
   "source": [
    "### Exercise 5\n",
    "\n",
    "- Assume that the tax revenue for a government is given by $R(t)= -t^2+t$, where $t$ is the taxe rate. Use the grid search method and find the tax rate on the $[0,1]$ domain that maximizes the tax revenue up to $10^{-4}$. "
   ]
  },
  {
   "cell_type": "code",
   "execution_count": 26,
   "metadata": {},
   "outputs": [],
   "source": [
    "def revenue(t): return -t**2 + t"
   ]
  },
  {
   "cell_type": "code",
   "execution_count": 27,
   "metadata": {},
   "outputs": [
    {
     "name": "stdout",
     "output_type": "stream",
     "text": [
      "The tax rate that maximizes tax revenue is  25.0 percent\n"
     ]
    }
   ],
   "source": [
    "t_grid = arange(0, 1 + 10**-4, 10**-4)\n",
    "\n",
    "revenue_space = [revenue(t) for t in t_grid]\n",
    "\n",
    "print(\"The tax rate that maximizes tax revenue is\", 100*max(revenue_space), \"percent\")"
   ]
  },
  {
   "cell_type": "markdown",
   "metadata": {
    "tags": []
   },
   "source": [
    "### Exercise 6\n",
    "\n",
    "- Import scipy.optimize as opt and use the minimize method to find the optimal savings allocation. In addition, report the optimal consumption in both periods. Use initial guess $x_0=0.1$. (Hint: read the minimize documentation using help to check the arguments of this method)"
   ]
  },
  {
   "cell_type": "code",
   "execution_count": 37,
   "metadata": {},
   "outputs": [],
   "source": [
    "import scipy.optimize as opt\n",
    "#?opt.minimize"
   ]
  },
  {
   "cell_type": "code",
   "execution_count": 40,
   "metadata": {},
   "outputs": [],
   "source": [
    "def total_utility(saving, mu, b, g, R, y):\n",
    "    return ((y - saving) ** (1-mu))/(1-mu) + b * ((y + R * saving) ** (1-g))/(1-g)"
   ]
  },
  {
   "cell_type": "code",
   "execution_count": 41,
   "metadata": {},
   "outputs": [],
   "source": [
    "mu_as = 1.1\n",
    "b_as = 0.95\n",
    "g_as = 1.2\n",
    "R_as = 1.05\n",
    "y_as = 10"
   ]
  },
  {
   "cell_type": "code",
   "execution_count": 42,
   "metadata": {},
   "outputs": [
    {
     "name": "stdout",
     "output_type": "stream",
     "text": [
      "The optimal saving allocation is -0.98\n",
      "This is -9.8 percent of the income\n"
     ]
    }
   ],
   "source": [
    "optim_results = opt.minimize(lambda x: -total_utility(x, mu_as, b_as, g_as, R_as, y_as), x0 = 0.1)\n",
    "\n",
    "optimal_saving = round(optim_results.x[0],2)\n",
    "\n",
    "print(\"The optimal saving allocation is\", optimal_saving)\n",
    "print(\"This is\", optimal_saving * 100 / 10, \"percent of the income\")"
   ]
  },
  {
   "cell_type": "code",
   "execution_count": 47,
   "metadata": {},
   "outputs": [
    {
     "name": "stdout",
     "output_type": "stream",
     "text": [
      "c1 = 10.98\n",
      "c2 = 8.971\n",
      "total cons 19.951\n"
     ]
    }
   ],
   "source": [
    "print(\"c1 =\", y_as - optimal_saving)\n",
    "print(\"c2 =\", y_as + R_as * optimal_saving)\n",
    "print(\"total cons\", y_as - optimal_saving + y_as + R_as * optimal_saving)"
   ]
  },
  {
   "cell_type": "markdown",
   "metadata": {
    "tags": []
   },
   "source": [
    "### Exercise 7\n",
    "\n",
    "- Build a function that returns an array with two elements, i.e. the residuals of the first order conditions for given $c_1, c_2$.\n",
    "\n",
    "- Use the fsolve to get the optimal allocations, i.e. the ones that make the first order conditions zero."
   ]
  },
  {
   "cell_type": "code",
   "execution_count": null,
   "metadata": {},
   "outputs": [],
   "source": []
  },
  {
   "cell_type": "markdown",
   "metadata": {},
   "source": [
    "### part 2"
   ]
  },
  {
   "cell_type": "markdown",
   "metadata": {},
   "source": [
    "#### 1. Gaussian Log-Likelihood Estimation"
   ]
  },
  {
   "cell_type": "code",
   "execution_count": 80,
   "metadata": {},
   "outputs": [],
   "source": [
    "import numpy as np\n",
    "\n",
    "# Lets define the Gaussian Log-likelihood function\n",
    "def lgauss(mu, sigma, n, x):\n",
    "    '''\n",
    "    This function evaluates the gaussian log-likelihood given mu, sigma,\n",
    "    number of observations, n, and a dataset, x.\n",
    "    \n",
    "    Returns: a scalar\n",
    "    '''\n",
    "    \n",
    "    l = -n/2*np.log(2*np.pi*sigma**2) -1/(2*sigma**2)*(sum((x-mu)**2))\n",
    "    return l"
   ]
  },
  {
   "cell_type": "code",
   "execution_count": 79,
   "metadata": {},
   "outputs": [],
   "source": [
    "# Next, lets import data on housing prices in Boston\n",
    "from sklearn.datasets import load_boston\n",
    "boston = load_boston()\n",
    "data = boston.data[:,0]"
   ]
  },
  {
   "cell_type": "markdown",
   "metadata": {},
   "source": [
    "A. Evaluate the log-likelihood with mu=5, sigma=1 and with Boston data.\n",
    "\n",
    "B. Given sigma, find $\\mu$ that maximizes lgauss by minimizing -lgauss. (use `fmin` from `scipy.optimize`)\n",
    "\n",
    "C. Now use the Newton-Rhapson Method you defined in exercise 4 of the numerical lecture notebook.\n",
    "\n",
    "D. Estimate both $\\mu$ and $\\sigma$.\n",
    "\n",
    "E. Plot the 3D log-likelihood function. (you should see a preety flat surface with a tiny peak) "
   ]
  },
  {
   "cell_type": "markdown",
   "metadata": {},
   "source": [
    "#### 2. Function Approximation\n",
    "\n",
    "Let's approximate the following function:\n",
    "\n",
    "$$ f(x) = \\min (\\sin(x), 0.7) $$"
   ]
  },
  {
   "cell_type": "code",
   "execution_count": 95,
   "metadata": {},
   "outputs": [
    {
     "data": {
      "image/png": "[encoded data removed]",
      "text/plain": [
       "<Figure size 576x360 with 1 Axes>"
      ]
     },
     "metadata": {
      "image/png": {
       "height": 318,
       "width": 485
      }
     },
     "output_type": "display_data"
    }
   ],
   "source": [
    "def fun(x):\n",
    "    res = []\n",
    "    for i in x:\n",
    "        res.append(min(abs(np.sin(i)), 0.7))\n",
    "    return res\n",
    "\n",
    "x = np.linspace(0,10,100)\n",
    "data_x = np.linspace(0,10,10) \n",
    "\n",
    "plt.figure(figsize=(8,5))\n",
    "plt.plot(x, fun(x))\n",
    "plt.scatter(data_x, fun(data_x), c = 'coral')\n",
    "plt.title(r'$f(x) = \\min (\\sin(x), 0.7)$') # r before the title string calls latex\n",
    "plt.show()"
   ]
  },
  {
   "cell_type": "markdown",
   "metadata": {},
   "source": [
    "A. Compute the linear interpolation approximation of the function and plot it.\n",
    "\n",
    "B. Repeat with a cubic spline and with the Chebyshev polynomials (use 6). \n",
    "\n",
    "C. Define the approximation error.\n",
    "\n",
    "D. Plot the approximation error for all three types of approximations in the same figure to compare them.\n",
    "\n",
    "E. Which approximation delivers the lowest approximation error?"
   ]
  }
 ],
 "metadata": {
  "kernelspec": {
   "display_name": "Python 3 (ipykernel)",
   "language": "python",
   "name": "python3"
  },
  "language_info": {
   "codemirror_mode": {
    "name": "ipython",
    "version": 3
   },
   "file_extension": ".py",
   "mimetype": "text/x-python",
   "name": "python",
   "nbconvert_exporter": "python",
   "pygments_lexer": "ipython3",
   "version": "3.7.10"
  },
  "varInspector": {
   "cols": {
    "lenName": 16,
    "lenType": 16,
    "lenVar": 40
   },
   "kernels_config": {
    "python": {
     "delete_cmd_postfix": "",
     "delete_cmd_prefix": "del ",
     "library": "var_list.py",
     "varRefreshCmd": "print(var_dic_list())"
    },
    "r": {
     "delete_cmd_postfix": ") ",
     "delete_cmd_prefix": "rm(",
     "library": "var_list.r",
     "varRefreshCmd": "cat(var_dic_list()) "
    }
   },
   "types_to_exclude": [
    "module",
    "function",
    "builtin_function_or_method",
    "instance",
    "_Feature"
   ],
   "window_display": false
  }
 },
 "nbformat": 4,
 "nbformat_minor": 4
}
